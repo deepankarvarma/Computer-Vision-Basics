{
  "cells": [
    {
      "attachments": {},
      "cell_type": "markdown",
      "metadata": {
        "id": "DwlU8jBx2Eey"
      },
      "source": [
        "# Assignment 2 Deepankar Varma 102003431 "
      ]
    },
    {
      "cell_type": "code",
      "execution_count": 1,
      "metadata": {
        "id": "uS9KSTtIzJlX"
      },
      "outputs": [],
      "source": [
        "import cv2\n",
        "import numpy as np\n",
        "import os\n",
        "\n",
        "# Load dataset\n",
        "dataset_path = 'Images'\n",
        "data = []\n",
        "labels = []\n",
        "for folder_name in os.listdir(dataset_path):\n",
        "    folder_path = os.path.join(dataset_path, folder_name)\n",
        "    for img_name in os.listdir(folder_path):\n",
        "        img_path = os.path.join(folder_path, img_name)\n",
        "        img = cv2.imread(img_path)\n",
        "        gray = cv2.cvtColor(img, cv2.COLOR_BGR2GRAY)\n",
        "        data.append(gray)\n",
        "        labels.append(folder_name)\n",
        "\n",
        "# Preprocess data\n",
        "data = np.array(data)\n",
        "labels = np.array(labels)\n",
        "data = data.reshape((data.shape[0], -1))\n",
        "labels = labels.reshape((labels.shape[0], -1))\n",
        "\n",
        "# Train model\n",
        "model = cv2.face.LBPHFaceRecognizer_create()\n",
        "model.train(data, labels)\n",
        "\n",
        "# Test model\n",
        "test_img = cv2.imread('test1.jpg')\n",
        "gray_test_img = cv2.cvtColor(test_img, cv2.COLOR_BGR2GRAY)\n",
        "label, confidence = model.predict(gray_test_img)\n",
        "print(label, confidence)"
      ]
    }
  ],
  "metadata": {
    "colab": {
      "provenance": []
    },
    "kernelspec": {
      "display_name": "Python 3",
      "name": "python3"
    },
    "language_info": {
      "codemirror_mode": {
        "name": "ipython",
        "version": 3
      },
      "file_extension": ".py",
      "mimetype": "text/x-python",
      "name": "python",
      "nbconvert_exporter": "python",
      "pygments_lexer": "ipython3",
      "version": "3.10.11"
    }
  },
  "nbformat": 4,
  "nbformat_minor": 0
}
